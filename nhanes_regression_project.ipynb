{
 "cells": [
  {
   "cell_type": "code",
   "execution_count": null,
   "id": "92d8471f-3589-468d-a4d4-53045f411270",
   "metadata": {},
   "outputs": [],
   "source": [
    "import pandas as pd\n",
    "import numpy as np\n",
    "import statsmodels.api as sm\n",
    "import missingno as msno\n",
    "import matplotlib.pyplot as plt\n",
    "from sklearn.model_selection import train_test_split\n",
    "from sklearn.linear_model import LogisticRegression\n",
    "from sklearn.metrics import accuracy_score, roc_auc_score\n",
    "from pandas.plotting import scatter_matrix"
   ]
  },
  {
   "cell_type": "code",
   "execution_count": null,
   "id": "88ac9759-74f9-4f77-9df3-d332816f5a42",
   "metadata": {},
   "outputs": [],
   "source": [
    "#Read in datasets\n",
    "df=pd.read_sas(\"/Users/alexmaillis/Downloads/P_DEMO.xpt\")\n",
    "huq=pd.read_sas(\"/Users/alexmaillis/Downloads/P_HUQ.xpt\")\n",
    "bmi=pd.read_sas(\"/Users/alexmaillis/Downloads/P_BMX.xpt\")\n",
    "diabetes=pd.read_sas(\"/Users/alexmaillis/Downloads/P_DIQ.xpt\")\n",
    "fitness=pd.read_sas(\"/Users/alexmaillis/Downloads/P_PAQ.xpt\")\n",
    "glu=pd.read_sas(\"/Users/alexmaillis/Downloads/P_GLU.xpt\")\n",
    "#checking that data imported \n",
    "glu.head(5)"
   ]
  },
  {
   "cell_type": "code",
   "execution_count": null,
   "id": "118ba6a0-094f-4330-85ba-11426e2f7af5",
   "metadata": {},
   "outputs": [],
   "source": [
    "#1) renaming columns \n",
    "df=df.rename(columns={\"SEQN\":\"ID\",\"RIAGENDR\":\"gender\",\"RIDAGEYR\":\"age_yrs\",\"DMDMARTZ\":\"married_cat\",\"DMDEDUC2\":\"edu_cat\"})\n",
    "huq=huq.rename(columns={\"SEQN\":\"ID\",\"HUQ010\":\"health_cond\",\"HUQ051\":\"visits_per_yr\",\"HUQ071\":\"IP_within_yr\"})\n",
    "bmi=bmi.rename(columns={\"SEQN\":\"ID\"})\n",
    "fitness=fitness.rename(columns={\"SEQN\":\"ID\",\"PAD680\":\"min_sedentary\",\"PAQ640\":\"days_walk\"})\n",
    "glu=glu.rename(columns={\"SEQN\":\"ID\",\"LBXGLU\":\"fasting_glu\"})\n",
    "df_y=diabetes.rename(columns={\"SEQN\":\"ID\",\"DIQ010\":\"y0_dm_doctor\",\"DIQ050\":\"y1_dm_insulin\",\"DIQ280\":\"y2_dm_a1c\"})\n",
    "#2) convert variables in scientific notation to integers\n",
    "pd.set_option('display.float_format', '{:.2f}'.format)\n",
    "# 3) check  \n",
    "huq.head(10)"
   ]
  },
  {
   "cell_type": "code",
   "execution_count": null,
   "id": "72c9e406-2e85-4fb5-98cf-a7d331ecef06",
   "metadata": {},
   "outputs": [],
   "source": [
    "#Join datasets by ID \n",
    "df_1=df.set_index('ID').join(huq.set_index('ID'), on=\"ID\",how=\"left\").join(df_y.set_index('ID'), on=\"ID\",how=\"left\").join(bmi.set_index('ID'),how=\"left\").join(fitness.set_index('ID'),how=\"left\").\\\n",
    "    join(glu.set_index('ID'), on=\"ID\",how=\"left\")\n",
    "df_1.reset_index(inplace=True)\n",
    "df_2 = df_1[['ID', 'gender','age_yrs','married_cat','edu_cat','BMXBMI','BMDBMIC','fasting_glu','min_sedentary','days_walk','health_cond','visits_per_yr','IP_within_yr'\n",
    "            , 'y0_dm_doctor','y1_dm_insulin','y2_dm_a1c']]\n",
    "df_2.head(10)"
   ]
  },
  {
   "cell_type": "code",
   "execution_count": null,
   "id": "bb3f907b-701b-419e-8609-ac7ae5869de2",
   "metadata": {},
   "outputs": [],
   "source": [
    "#THE NEXT 3 CELLS CHECK DATA DISTRIBUTION AND MISSINGNESS"
   ]
  },
  {
   "cell_type": "code",
   "execution_count": null,
   "id": "ff31bb90-03c5-44c9-975b-47cd87f80afe",
   "metadata": {},
   "outputs": [],
   "source": [
    "print(df_2.describe())\n",
    "print(df_2.info())"
   ]
  },
  {
   "cell_type": "code",
   "execution_count": null,
   "id": "763d8312-342f-4641-bd58-e005606725c1",
   "metadata": {},
   "outputs": [],
   "source": [
    "print(pd.crosstab(df_2['age_yrs'], df_2['BMDBMIC']))\n",
    "#BMI Category is only available for age_yrs < 20. will use numeric value in model "
   ]
  },
  {
   "cell_type": "code",
   "execution_count": null,
   "id": "b71fa52f-99d3-4a71-a421-12cae29a36d0",
   "metadata": {},
   "outputs": [],
   "source": [
    "#%matplotlib inline\n",
    "#df_2.hist(bins=60, figsize=(20,15))\n",
    "#plt.show()\n",
    "\n",
    "data=df_2.visits_per_yr\n",
    "data1=df_2.BMXBMI\n",
    "data2=df_2.min_sedentary\n",
    "#print(plt.hist(data, bins=60,color='red',edgecolor='black'))\n",
    "#print(plt.hist(data1, bins=60,color='blue',edgecolor='black'))\n",
    "print(plt.hist(data2, bins=100,color='green',edgecolor='black'))"
   ]
  },
  {
   "cell_type": "code",
   "execution_count": null,
   "id": "73b35a21-58f4-4251-979e-06e42bfe7e71",
   "metadata": {},
   "outputs": [],
   "source": [
    "print(msno.matrix(df_2))\n",
    "#print(msno.bar(df_2))\n",
    "print(msno.heatmap(df_2))"
   ]
  },
  {
   "cell_type": "code",
   "execution_count": null,
   "id": "5404ba7d-9a4a-490c-931d-64339d02df13",
   "metadata": {},
   "outputs": [],
   "source": [
    "#Clean Outcome variable and remove 'unknown'/'refused' observations\n",
    "# Filter out rows with incomplete visit # and min_sedentary data\n",
    "remove=[99.00]\n",
    "remove1=[9999.0,7777.0]\n",
    "df_3 = df_2[~df_2['visits_per_yr'].isin(remove)].copy()\n",
    "df_4 = df_3[~df_3['min_sedentary'].isin(remove1)].copy()\n",
    "df_5 = df_4[df_4['age_yrs'] > 17].copy()\n",
    "#recode diabetes to 0/1\n",
    "df_5['y0_dm_bin'] = df_5['y0_dm_doctor'].apply(lambda x: 1 if x == 1.00 else 0)\n",
    "\n",
    "#check binary variable accuracy\n",
    "print(pd.crosstab(df_5['y0_dm_bin'], df_5['y0_dm_doctor']))\n",
    "\n",
    "df_6 = df_5[['gender','age_yrs','BMXBMI','min_sedentary','health_cond','visits_per_yr','IP_within_yr','y0_dm_bin']]\n",
    "df_6 = df_6.dropna()\n",
    "print(df_6.describe())"
   ]
  },
  {
   "cell_type": "code",
   "execution_count": null,
   "id": "06b2de4e-e273-4bd6-bdf9-204176f3b92c",
   "metadata": {},
   "outputs": [],
   "source": [
    "#Check: stratified sampling vs random sampling? per CDC, 40% of americans are obese. Is my sample similar? \n",
    "print(len(df_6[df_6['BMXBMI'] >= 30.00]))\n",
    "print(3647/8701)\n",
    "#42% of data being included in model has BMI>=30.0 (obese). Will stick with random sampling vs. stratified\n",
    "\n",
    "total_missing = df_6.isnull().sum().sum()\n",
    "\n",
    "print(f\"Total missing values in the DataFrame: {total_missing}\")"
   ]
  },
  {
   "cell_type": "code",
   "execution_count": null,
   "id": "9d8526a4-aca0-4c5a-b02f-85ac9f8e8548",
   "metadata": {},
   "outputs": [],
   "source": [
    "#split data for testing\n",
    "train_set, test_set = train_test_split(df_6,test_size=0.2,random_state=42)\n",
    "\n",
    "#Check for multicollinearity in training data\n",
    "print(train_set.corr())\n",
    "\n",
    "#Split predictors from labels\n",
    "dm_train=train_set.drop('y0_dm_bin',axis=1)\n",
    "dm_labels=train_set['y0_dm_bin'].copy()"
   ]
  },
  {
   "cell_type": "code",
   "execution_count": null,
   "id": "045d97a1-d0ee-456d-b2f4-6fa0ffa5babd",
   "metadata": {},
   "outputs": [],
   "source": [
    "#Numeric and Categorical transformation pipeline\n",
    "from sklearn.base import BaseEstimator, TransformerMixin\n",
    "from sklearn.pipeline import Pipeline, FeatureUnion\n",
    "from sklearn.preprocessing import StandardScaler, OneHotEncoder\n",
    "\n",
    "class DataFrameSelector(BaseEstimator,TransformerMixin):\n",
    "    def __init__(self,attribute_names):\n",
    "        self.attribute_names = attribute_names\n",
    "    def fit(self, X, y=None):\n",
    "        return self\n",
    "    def transform(self, X):\n",
    "        return X[self.attribute_names].values\n",
    "        \n",
    "dm_num=dm_train[['age_yrs','BMXBMI','min_sedentary']]\n",
    "dm_cat=dm_train[['gender','health_cond','visits_per_yr','IP_within_yr']]\n",
    "num_attributes = list(dm_num)\n",
    "cat_attributes = list(dm_cat)\n",
    "\n",
    "num_pipeline=Pipeline([\n",
    "    ('selector',DataFrameSelector(num_attributes)),\n",
    "    ('std_scaler',StandardScaler()),\n",
    "])\n",
    "\n",
    "cat_pipeline = Pipeline([\n",
    "    ('selector',DataFrameSelector(cat_attributes)),\n",
    "    ('cat_encoder', OneHotEncoder(handle_unknown='ignore')),\n",
    "])\n",
    "\n",
    "full_pipeline = FeatureUnion(transformer_list=[\n",
    "    ('num_pipeline', num_pipeline),\n",
    "    ('cat_pipeline', cat_pipeline),\n",
    "])\n",
    "\n",
    "dm_processed=full_pipeline.fit_transform(dm_train)\n",
    "dm_processed"
   ]
  },
  {
   "cell_type": "code",
   "execution_count": null,
   "id": "ebe03a7b-8240-4a14-8252-78a974931b64",
   "metadata": {},
   "outputs": [],
   "source": [
    "#TRAIN LOGISTIC MODEL \n",
    "\n",
    "log_reg=LogisticRegression()\n",
    "log_reg.fit(dm_processed,dm_labels)\n",
    "print(\"model score: %.3f\" % log_reg.score(dm_processed,dm_labels))"
   ]
  },
  {
   "cell_type": "code",
   "execution_count": null,
   "id": "d9fb4998-3c77-4568-8922-8b571e95af7e",
   "metadata": {},
   "outputs": [],
   "source": [
    "#Now what? "
   ]
  }
 ],
 "metadata": {
  "kernelspec": {
   "display_name": "Python 3 (ipykernel)",
   "language": "python",
   "name": "python3"
  },
  "language_info": {
   "codemirror_mode": {
    "name": "ipython",
    "version": 3
   },
   "file_extension": ".py",
   "mimetype": "text/x-python",
   "name": "python",
   "nbconvert_exporter": "python",
   "pygments_lexer": "ipython3",
   "version": "3.9.4"
  }
 },
 "nbformat": 4,
 "nbformat_minor": 5
}
